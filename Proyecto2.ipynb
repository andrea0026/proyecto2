{
  "nbformat": 4,
  "nbformat_minor": 0,
  "metadata": {
    "colab": {
      "provenance": [],
      "authorship_tag": "ABX9TyMjQw8Bte69XPsXuRfiluSu",
      "include_colab_link": true
    },
    "kernelspec": {
      "name": "python3",
      "display_name": "Python 3"
    },
    "language_info": {
      "name": "python"
    }
  },
  "cells": [
    {
      "cell_type": "markdown",
      "metadata": {
        "id": "view-in-github",
        "colab_type": "text"
      },
      "source": [
        "<a href=\"https://colab.research.google.com/github/andrea0026/proyecto2/blob/main/Proyecto2.ipynb\" target=\"_parent\"><img src=\"https://colab.research.google.com/assets/colab-badge.svg\" alt=\"Open In Colab\"/></a>"
      ]
    },
    {
      "cell_type": "code",
      "execution_count": 1,
      "metadata": {
        "colab": {
          "base_uri": "https://localhost:8080/"
        },
        "id": "3YjoFS_9dvFs",
        "outputId": "2bd95537-e51a-4f9c-f90d-b39d4337cf22"
      },
      "outputs": [
        {
          "output_type": "stream",
          "name": "stdout",
          "text": [
            "Mounted at /content/drive\n"
          ]
        }
      ],
      "source": [
        "from google.colab import drive\n",
        "drive.mount('/content/drive')"
      ]
    },
    {
      "cell_type": "code",
      "source": [
        "import pandas as pd\n",
        "import matplotlib.pyplot as plt\n",
        "import seaborn as sns\n",
        "import numpy as np\n",
        "import matplotlib as mpl\n",
        "from sklearn.model_selection import train_test_split, GridSearchCV\n",
        "from sklearn.pipeline import make_pipeline\n",
        "from sklearn.preprocessing import StandardScaler, OneHotEncoder\n",
        "from sklearn.compose import make_column_selector, make_column_transformer\n",
        "from sklearn.impute import SimpleImputer\n",
        "from sklearn.decomposition import PCA\n",
        "from sklearn.tree import DecisionTreeClassifier\n",
        "from sklearn.linear_model import LogisticRegression\n",
        "from sklearn.neighbors import KNeighborsClassifier\n",
        "from sklearn.cluster import KMeans\n",
        "from sklearn.metrics.cluster import silhouette_score\n",
        "from sklearn.metrics import accuracy_score, recall_score, precision_score, \\\n",
        "f1_score, classification_report, plot_confusion_matrix\n",
        "from IPython.core.pylabtools import figsize"
      ],
      "metadata": {
        "id": "SoFUltGVd1ay"
      },
      "execution_count": 23,
      "outputs": []
    },
    {
      "cell_type": "code",
      "source": [
        "df = pd.read_csv('/content/drive/MyDrive/Data_science/Machine learning/archivos/water_potability.csv')\n",
        "df.head()"
      ],
      "metadata": {
        "colab": {
          "base_uri": "https://localhost:8080/",
          "height": 206
        },
        "id": "E0QkE2DPeAGV",
        "outputId": "4dc8a7b8-984d-47fb-f8e1-11a50bb66bb0"
      },
      "execution_count": 29,
      "outputs": [
        {
          "output_type": "execute_result",
          "data": {
            "text/plain": [
              "         ph    Hardness        Solids  Chloramines     Sulfate  Conductivity  \\\n",
              "0       NaN  204.890455  20791.318981     7.300212  368.516441    564.308654   \n",
              "1  3.716080  129.422921  18630.057858     6.635246         NaN    592.885359   \n",
              "2  8.099124  224.236259  19909.541732     9.275884         NaN    418.606213   \n",
              "3  8.316766  214.373394  22018.417441     8.059332  356.886136    363.266516   \n",
              "4  9.092223  181.101509  17978.986339     6.546600  310.135738    398.410813   \n",
              "\n",
              "   Organic_carbon  Trihalomethanes  Turbidity  Potability  \n",
              "0       10.379783        86.990970   2.963135           0  \n",
              "1       15.180013        56.329076   4.500656           0  \n",
              "2       16.868637        66.420093   3.055934           0  \n",
              "3       18.436524       100.341674   4.628771           0  \n",
              "4       11.558279        31.997993   4.075075           0  "
            ],
            "text/html": [
              "\n",
              "  <div id=\"df-da34c0fa-81b1-48b2-864b-7acedf6f68c4\">\n",
              "    <div class=\"colab-df-container\">\n",
              "      <div>\n",
              "<style scoped>\n",
              "    .dataframe tbody tr th:only-of-type {\n",
              "        vertical-align: middle;\n",
              "    }\n",
              "\n",
              "    .dataframe tbody tr th {\n",
              "        vertical-align: top;\n",
              "    }\n",
              "\n",
              "    .dataframe thead th {\n",
              "        text-align: right;\n",
              "    }\n",
              "</style>\n",
              "<table border=\"1\" class=\"dataframe\">\n",
              "  <thead>\n",
              "    <tr style=\"text-align: right;\">\n",
              "      <th></th>\n",
              "      <th>ph</th>\n",
              "      <th>Hardness</th>\n",
              "      <th>Solids</th>\n",
              "      <th>Chloramines</th>\n",
              "      <th>Sulfate</th>\n",
              "      <th>Conductivity</th>\n",
              "      <th>Organic_carbon</th>\n",
              "      <th>Trihalomethanes</th>\n",
              "      <th>Turbidity</th>\n",
              "      <th>Potability</th>\n",
              "    </tr>\n",
              "  </thead>\n",
              "  <tbody>\n",
              "    <tr>\n",
              "      <th>0</th>\n",
              "      <td>NaN</td>\n",
              "      <td>204.890455</td>\n",
              "      <td>20791.318981</td>\n",
              "      <td>7.300212</td>\n",
              "      <td>368.516441</td>\n",
              "      <td>564.308654</td>\n",
              "      <td>10.379783</td>\n",
              "      <td>86.990970</td>\n",
              "      <td>2.963135</td>\n",
              "      <td>0</td>\n",
              "    </tr>\n",
              "    <tr>\n",
              "      <th>1</th>\n",
              "      <td>3.716080</td>\n",
              "      <td>129.422921</td>\n",
              "      <td>18630.057858</td>\n",
              "      <td>6.635246</td>\n",
              "      <td>NaN</td>\n",
              "      <td>592.885359</td>\n",
              "      <td>15.180013</td>\n",
              "      <td>56.329076</td>\n",
              "      <td>4.500656</td>\n",
              "      <td>0</td>\n",
              "    </tr>\n",
              "    <tr>\n",
              "      <th>2</th>\n",
              "      <td>8.099124</td>\n",
              "      <td>224.236259</td>\n",
              "      <td>19909.541732</td>\n",
              "      <td>9.275884</td>\n",
              "      <td>NaN</td>\n",
              "      <td>418.606213</td>\n",
              "      <td>16.868637</td>\n",
              "      <td>66.420093</td>\n",
              "      <td>3.055934</td>\n",
              "      <td>0</td>\n",
              "    </tr>\n",
              "    <tr>\n",
              "      <th>3</th>\n",
              "      <td>8.316766</td>\n",
              "      <td>214.373394</td>\n",
              "      <td>22018.417441</td>\n",
              "      <td>8.059332</td>\n",
              "      <td>356.886136</td>\n",
              "      <td>363.266516</td>\n",
              "      <td>18.436524</td>\n",
              "      <td>100.341674</td>\n",
              "      <td>4.628771</td>\n",
              "      <td>0</td>\n",
              "    </tr>\n",
              "    <tr>\n",
              "      <th>4</th>\n",
              "      <td>9.092223</td>\n",
              "      <td>181.101509</td>\n",
              "      <td>17978.986339</td>\n",
              "      <td>6.546600</td>\n",
              "      <td>310.135738</td>\n",
              "      <td>398.410813</td>\n",
              "      <td>11.558279</td>\n",
              "      <td>31.997993</td>\n",
              "      <td>4.075075</td>\n",
              "      <td>0</td>\n",
              "    </tr>\n",
              "  </tbody>\n",
              "</table>\n",
              "</div>\n",
              "      <button class=\"colab-df-convert\" onclick=\"convertToInteractive('df-da34c0fa-81b1-48b2-864b-7acedf6f68c4')\"\n",
              "              title=\"Convert this dataframe to an interactive table.\"\n",
              "              style=\"display:none;\">\n",
              "        \n",
              "  <svg xmlns=\"http://www.w3.org/2000/svg\" height=\"24px\"viewBox=\"0 0 24 24\"\n",
              "       width=\"24px\">\n",
              "    <path d=\"M0 0h24v24H0V0z\" fill=\"none\"/>\n",
              "    <path d=\"M18.56 5.44l.94 2.06.94-2.06 2.06-.94-2.06-.94-.94-2.06-.94 2.06-2.06.94zm-11 1L8.5 8.5l.94-2.06 2.06-.94-2.06-.94L8.5 2.5l-.94 2.06-2.06.94zm10 10l.94 2.06.94-2.06 2.06-.94-2.06-.94-.94-2.06-.94 2.06-2.06.94z\"/><path d=\"M17.41 7.96l-1.37-1.37c-.4-.4-.92-.59-1.43-.59-.52 0-1.04.2-1.43.59L10.3 9.45l-7.72 7.72c-.78.78-.78 2.05 0 2.83L4 21.41c.39.39.9.59 1.41.59.51 0 1.02-.2 1.41-.59l7.78-7.78 2.81-2.81c.8-.78.8-2.07 0-2.86zM5.41 20L4 18.59l7.72-7.72 1.47 1.35L5.41 20z\"/>\n",
              "  </svg>\n",
              "      </button>\n",
              "      \n",
              "  <style>\n",
              "    .colab-df-container {\n",
              "      display:flex;\n",
              "      flex-wrap:wrap;\n",
              "      gap: 12px;\n",
              "    }\n",
              "\n",
              "    .colab-df-convert {\n",
              "      background-color: #E8F0FE;\n",
              "      border: none;\n",
              "      border-radius: 50%;\n",
              "      cursor: pointer;\n",
              "      display: none;\n",
              "      fill: #1967D2;\n",
              "      height: 32px;\n",
              "      padding: 0 0 0 0;\n",
              "      width: 32px;\n",
              "    }\n",
              "\n",
              "    .colab-df-convert:hover {\n",
              "      background-color: #E2EBFA;\n",
              "      box-shadow: 0px 1px 2px rgba(60, 64, 67, 0.3), 0px 1px 3px 1px rgba(60, 64, 67, 0.15);\n",
              "      fill: #174EA6;\n",
              "    }\n",
              "\n",
              "    [theme=dark] .colab-df-convert {\n",
              "      background-color: #3B4455;\n",
              "      fill: #D2E3FC;\n",
              "    }\n",
              "\n",
              "    [theme=dark] .colab-df-convert:hover {\n",
              "      background-color: #434B5C;\n",
              "      box-shadow: 0px 1px 3px 1px rgba(0, 0, 0, 0.15);\n",
              "      filter: drop-shadow(0px 1px 2px rgba(0, 0, 0, 0.3));\n",
              "      fill: #FFFFFF;\n",
              "    }\n",
              "  </style>\n",
              "\n",
              "      <script>\n",
              "        const buttonEl =\n",
              "          document.querySelector('#df-da34c0fa-81b1-48b2-864b-7acedf6f68c4 button.colab-df-convert');\n",
              "        buttonEl.style.display =\n",
              "          google.colab.kernel.accessAllowed ? 'block' : 'none';\n",
              "\n",
              "        async function convertToInteractive(key) {\n",
              "          const element = document.querySelector('#df-da34c0fa-81b1-48b2-864b-7acedf6f68c4');\n",
              "          const dataTable =\n",
              "            await google.colab.kernel.invokeFunction('convertToInteractive',\n",
              "                                                     [key], {});\n",
              "          if (!dataTable) return;\n",
              "\n",
              "          const docLinkHtml = 'Like what you see? Visit the ' +\n",
              "            '<a target=\"_blank\" href=https://colab.research.google.com/notebooks/data_table.ipynb>data table notebook</a>'\n",
              "            + ' to learn more about interactive tables.';\n",
              "          element.innerHTML = '';\n",
              "          dataTable['output_type'] = 'display_data';\n",
              "          await google.colab.output.renderOutput(dataTable, element);\n",
              "          const docLink = document.createElement('div');\n",
              "          docLink.innerHTML = docLinkHtml;\n",
              "          element.appendChild(docLink);\n",
              "        }\n",
              "      </script>\n",
              "    </div>\n",
              "  </div>\n",
              "  "
            ]
          },
          "metadata": {},
          "execution_count": 29
        }
      ]
    },
    {
      "cell_type": "markdown",
      "source": [
        "Primera opción: conjunto de datos 1\n",
        "\n",
        "1) Fuente de datos: https://www.kaggle.com/datasets/adityakadiwal/water-potability\n",
        "\n",
        "2) Breve descripción de datos: Este data set muestra 9 caracteristicas sobre la calidad del agua, a partir de estas se determina si el agua es potable o no.\n"
      ],
      "metadata": {
        "id": "2azU9oWEeRL2"
      }
    },
    {
      "cell_type": "markdown",
      "source": [
        "Diccionario de los datos:\n",
        "1. ph: pH of 1. water (0 to 14).\n",
        "2. Hardness: Capacity of water to precipitate soap in mg/L.\n",
        "3. Solids: Total dissolved solids in ppm.\n",
        "4. Chloramines: Amount of Chloramines in ppm.\n",
        "5. Sulfate: Amount of Sulfates dissolved in mg/L.\n",
        "6. Conductivity: Electrical conductivity of water in μS/cm.\n",
        "7. Organic_carbon: Amount of organic carbon in ppm.\n",
        "8. Trihalomethanes: Amount of Trihalomethanes in μg/L.\n",
        "9. Turbidity: Measure of light emiting property of water in NTU.\n",
        "10. Potability: Indicates if water is safe for human consumption. Potable -1 and Not potable -0"
      ],
      "metadata": {
        "id": "kxEa9qh7Tse-"
      }
    },
    {
      "cell_type": "markdown",
      "source": [
        "## Proyecto 2 - Parte 2 (base) \n",
        "\n",
        "Para cumplir con los requisitos para esta semana, deben haber:\n",
        "\n",
        "-eliminado las columnas innecesarias\n",
        "\n",
        "-eliminado las filas duplicadas\n",
        "\n",
        "-identificado y abordado los valores faltantes \n",
        "\n",
        "-identificado y corregido las inconsistencias en los datos para los valores categóricos (es decir, Cat, cat, cats)\n",
        "\n",
        "-producido visuales univariantes para el objetivo y todas las características\n",
        "\n",
        "-identificado los valores atípicos\n",
        "\n",
        "-producido un mapa de calor de correlación e identificado cualquier correlaciones moderadas o fuertes entre el objetivo y las características y/o entre una característica y otra"
      ],
      "metadata": {
        "id": "vyHpMa9uMB4c"
      }
    },
    {
      "cell_type": "code",
      "source": [
        "#validación de columnas o características\n",
        "df.info()"
      ],
      "metadata": {
        "colab": {
          "base_uri": "https://localhost:8080/"
        },
        "id": "CxSt0gtkMKiU",
        "outputId": "c96b10e8-aa83-4568-d847-86f39a2c64e1"
      },
      "execution_count": null,
      "outputs": [
        {
          "output_type": "stream",
          "name": "stdout",
          "text": [
            "<class 'pandas.core.frame.DataFrame'>\n",
            "RangeIndex: 3276 entries, 0 to 3275\n",
            "Data columns (total 10 columns):\n",
            " #   Column           Non-Null Count  Dtype  \n",
            "---  ------           --------------  -----  \n",
            " 0   ph               2785 non-null   float64\n",
            " 1   Hardness         3276 non-null   float64\n",
            " 2   Solids           3276 non-null   float64\n",
            " 3   Chloramines      3276 non-null   float64\n",
            " 4   Sulfate          2495 non-null   float64\n",
            " 5   Conductivity     3276 non-null   float64\n",
            " 6   Organic_carbon   3276 non-null   float64\n",
            " 7   Trihalomethanes  3114 non-null   float64\n",
            " 8   Turbidity        3276 non-null   float64\n",
            " 9   Potability       3276 non-null   int64  \n",
            "dtypes: float64(9), int64(1)\n",
            "memory usage: 256.1 KB\n"
          ]
        }
      ]
    },
    {
      "cell_type": "code",
      "source": [
        "#validar si existen columnas duplicadas\n",
        "df.duplicated().any()"
      ],
      "metadata": {
        "colab": {
          "base_uri": "https://localhost:8080/"
        },
        "id": "cIl34R_lMYAn",
        "outputId": "d52e004b-af51-4663-bb3b-7ca4889be705"
      },
      "execution_count": 25,
      "outputs": [
        {
          "output_type": "execute_result",
          "data": {
            "text/plain": [
              "False"
            ]
          },
          "metadata": {},
          "execution_count": 25
        }
      ]
    },
    {
      "cell_type": "code",
      "source": [
        "#Identificar y abordar los valores faltantes\n",
        "df.isna().sum()"
      ],
      "metadata": {
        "colab": {
          "base_uri": "https://localhost:8080/"
        },
        "id": "9A2mFd06NeqD",
        "outputId": "b5c2949e-b7a4-49d2-9cbb-8c682d254dc4"
      },
      "execution_count": null,
      "outputs": [
        {
          "output_type": "execute_result",
          "data": {
            "text/plain": [
              "ph                 491\n",
              "Hardness             0\n",
              "Solids               0\n",
              "Chloramines          0\n",
              "Sulfate            781\n",
              "Conductivity         0\n",
              "Organic_carbon       0\n",
              "Trihalomethanes    162\n",
              "Turbidity            0\n",
              "Potability           0\n",
              "dtype: int64"
            ]
          },
          "metadata": {},
          "execution_count": 9
        }
      ]
    },
    {
      "cell_type": "code",
      "source": [
        "df.shape"
      ],
      "metadata": {
        "colab": {
          "base_uri": "https://localhost:8080/"
        },
        "id": "1e9ZnPnpOs-B",
        "outputId": "9c1d0c6a-688b-48a6-c6f8-3252975c6382"
      },
      "execution_count": null,
      "outputs": [
        {
          "output_type": "execute_result",
          "data": {
            "text/plain": [
              "(3276, 10)"
            ]
          },
          "metadata": {},
          "execution_count": 10
        }
      ]
    },
    {
      "cell_type": "code",
      "source": [
        "# Dada la información anterior, decido aplicar la estrategia de imputación, para abordar los datos faltantes con el promedio.\n",
        "# Crear Pipeline:\n",
        "\n",
        "num_selector = make_column_selector(dtype_include='number')\n",
        "mean_imputer = SimpleImputer(strategy='mean')\n",
        "scaler = StandardScaler()\n",
        "num_pipe = make_pipeline(mean_imputer, scaler)"
      ],
      "metadata": {
        "id": "71EuYumBN3Ov"
      },
      "execution_count": 19,
      "outputs": []
    },
    {
      "cell_type": "code",
      "source": [
        "#Identificar valores atípicos\n",
        "\n",
        "df.describe().round(2)"
      ],
      "metadata": {
        "colab": {
          "base_uri": "https://localhost:8080/",
          "height": 300
        },
        "id": "n51Qs9L_PU2_",
        "outputId": "c2966948-bb05-43e0-9f5c-4e6480400f6b"
      },
      "execution_count": null,
      "outputs": [
        {
          "output_type": "execute_result",
          "data": {
            "text/plain": [
              "            ph  Hardness    Solids  Chloramines  Sulfate  Conductivity  \\\n",
              "count  2785.00   3276.00   3276.00      3276.00  2495.00       3276.00   \n",
              "mean      7.08    196.37  22014.09         7.12   333.78        426.21   \n",
              "std       1.59     32.88   8768.57         1.58    41.42         80.82   \n",
              "min       0.00     47.43    320.94         0.35   129.00        181.48   \n",
              "25%       6.09    176.85  15666.69         6.13   307.70        365.73   \n",
              "50%       7.04    196.97  20927.83         7.13   333.07        421.88   \n",
              "75%       8.06    216.67  27332.76         8.11   359.95        481.79   \n",
              "max      14.00    323.12  61227.20        13.13   481.03        753.34   \n",
              "\n",
              "       Organic_carbon  Trihalomethanes  Turbidity  Potability  \n",
              "count         3276.00          3114.00    3276.00     3276.00  \n",
              "mean            14.28            66.40       3.97        0.39  \n",
              "std              3.31            16.18       0.78        0.49  \n",
              "min              2.20             0.74       1.45        0.00  \n",
              "25%             12.07            55.84       3.44        0.00  \n",
              "50%             14.22            66.62       3.96        0.00  \n",
              "75%             16.56            77.34       4.50        1.00  \n",
              "max             28.30           124.00       6.74        1.00  "
            ],
            "text/html": [
              "\n",
              "  <div id=\"df-b1807b4f-8756-4e17-9e90-4953890d0b49\">\n",
              "    <div class=\"colab-df-container\">\n",
              "      <div>\n",
              "<style scoped>\n",
              "    .dataframe tbody tr th:only-of-type {\n",
              "        vertical-align: middle;\n",
              "    }\n",
              "\n",
              "    .dataframe tbody tr th {\n",
              "        vertical-align: top;\n",
              "    }\n",
              "\n",
              "    .dataframe thead th {\n",
              "        text-align: right;\n",
              "    }\n",
              "</style>\n",
              "<table border=\"1\" class=\"dataframe\">\n",
              "  <thead>\n",
              "    <tr style=\"text-align: right;\">\n",
              "      <th></th>\n",
              "      <th>ph</th>\n",
              "      <th>Hardness</th>\n",
              "      <th>Solids</th>\n",
              "      <th>Chloramines</th>\n",
              "      <th>Sulfate</th>\n",
              "      <th>Conductivity</th>\n",
              "      <th>Organic_carbon</th>\n",
              "      <th>Trihalomethanes</th>\n",
              "      <th>Turbidity</th>\n",
              "      <th>Potability</th>\n",
              "    </tr>\n",
              "  </thead>\n",
              "  <tbody>\n",
              "    <tr>\n",
              "      <th>count</th>\n",
              "      <td>2785.00</td>\n",
              "      <td>3276.00</td>\n",
              "      <td>3276.00</td>\n",
              "      <td>3276.00</td>\n",
              "      <td>2495.00</td>\n",
              "      <td>3276.00</td>\n",
              "      <td>3276.00</td>\n",
              "      <td>3114.00</td>\n",
              "      <td>3276.00</td>\n",
              "      <td>3276.00</td>\n",
              "    </tr>\n",
              "    <tr>\n",
              "      <th>mean</th>\n",
              "      <td>7.08</td>\n",
              "      <td>196.37</td>\n",
              "      <td>22014.09</td>\n",
              "      <td>7.12</td>\n",
              "      <td>333.78</td>\n",
              "      <td>426.21</td>\n",
              "      <td>14.28</td>\n",
              "      <td>66.40</td>\n",
              "      <td>3.97</td>\n",
              "      <td>0.39</td>\n",
              "    </tr>\n",
              "    <tr>\n",
              "      <th>std</th>\n",
              "      <td>1.59</td>\n",
              "      <td>32.88</td>\n",
              "      <td>8768.57</td>\n",
              "      <td>1.58</td>\n",
              "      <td>41.42</td>\n",
              "      <td>80.82</td>\n",
              "      <td>3.31</td>\n",
              "      <td>16.18</td>\n",
              "      <td>0.78</td>\n",
              "      <td>0.49</td>\n",
              "    </tr>\n",
              "    <tr>\n",
              "      <th>min</th>\n",
              "      <td>0.00</td>\n",
              "      <td>47.43</td>\n",
              "      <td>320.94</td>\n",
              "      <td>0.35</td>\n",
              "      <td>129.00</td>\n",
              "      <td>181.48</td>\n",
              "      <td>2.20</td>\n",
              "      <td>0.74</td>\n",
              "      <td>1.45</td>\n",
              "      <td>0.00</td>\n",
              "    </tr>\n",
              "    <tr>\n",
              "      <th>25%</th>\n",
              "      <td>6.09</td>\n",
              "      <td>176.85</td>\n",
              "      <td>15666.69</td>\n",
              "      <td>6.13</td>\n",
              "      <td>307.70</td>\n",
              "      <td>365.73</td>\n",
              "      <td>12.07</td>\n",
              "      <td>55.84</td>\n",
              "      <td>3.44</td>\n",
              "      <td>0.00</td>\n",
              "    </tr>\n",
              "    <tr>\n",
              "      <th>50%</th>\n",
              "      <td>7.04</td>\n",
              "      <td>196.97</td>\n",
              "      <td>20927.83</td>\n",
              "      <td>7.13</td>\n",
              "      <td>333.07</td>\n",
              "      <td>421.88</td>\n",
              "      <td>14.22</td>\n",
              "      <td>66.62</td>\n",
              "      <td>3.96</td>\n",
              "      <td>0.00</td>\n",
              "    </tr>\n",
              "    <tr>\n",
              "      <th>75%</th>\n",
              "      <td>8.06</td>\n",
              "      <td>216.67</td>\n",
              "      <td>27332.76</td>\n",
              "      <td>8.11</td>\n",
              "      <td>359.95</td>\n",
              "      <td>481.79</td>\n",
              "      <td>16.56</td>\n",
              "      <td>77.34</td>\n",
              "      <td>4.50</td>\n",
              "      <td>1.00</td>\n",
              "    </tr>\n",
              "    <tr>\n",
              "      <th>max</th>\n",
              "      <td>14.00</td>\n",
              "      <td>323.12</td>\n",
              "      <td>61227.20</td>\n",
              "      <td>13.13</td>\n",
              "      <td>481.03</td>\n",
              "      <td>753.34</td>\n",
              "      <td>28.30</td>\n",
              "      <td>124.00</td>\n",
              "      <td>6.74</td>\n",
              "      <td>1.00</td>\n",
              "    </tr>\n",
              "  </tbody>\n",
              "</table>\n",
              "</div>\n",
              "      <button class=\"colab-df-convert\" onclick=\"convertToInteractive('df-b1807b4f-8756-4e17-9e90-4953890d0b49')\"\n",
              "              title=\"Convert this dataframe to an interactive table.\"\n",
              "              style=\"display:none;\">\n",
              "        \n",
              "  <svg xmlns=\"http://www.w3.org/2000/svg\" height=\"24px\"viewBox=\"0 0 24 24\"\n",
              "       width=\"24px\">\n",
              "    <path d=\"M0 0h24v24H0V0z\" fill=\"none\"/>\n",
              "    <path d=\"M18.56 5.44l.94 2.06.94-2.06 2.06-.94-2.06-.94-.94-2.06-.94 2.06-2.06.94zm-11 1L8.5 8.5l.94-2.06 2.06-.94-2.06-.94L8.5 2.5l-.94 2.06-2.06.94zm10 10l.94 2.06.94-2.06 2.06-.94-2.06-.94-.94-2.06-.94 2.06-2.06.94z\"/><path d=\"M17.41 7.96l-1.37-1.37c-.4-.4-.92-.59-1.43-.59-.52 0-1.04.2-1.43.59L10.3 9.45l-7.72 7.72c-.78.78-.78 2.05 0 2.83L4 21.41c.39.39.9.59 1.41.59.51 0 1.02-.2 1.41-.59l7.78-7.78 2.81-2.81c.8-.78.8-2.07 0-2.86zM5.41 20L4 18.59l7.72-7.72 1.47 1.35L5.41 20z\"/>\n",
              "  </svg>\n",
              "      </button>\n",
              "      \n",
              "  <style>\n",
              "    .colab-df-container {\n",
              "      display:flex;\n",
              "      flex-wrap:wrap;\n",
              "      gap: 12px;\n",
              "    }\n",
              "\n",
              "    .colab-df-convert {\n",
              "      background-color: #E8F0FE;\n",
              "      border: none;\n",
              "      border-radius: 50%;\n",
              "      cursor: pointer;\n",
              "      display: none;\n",
              "      fill: #1967D2;\n",
              "      height: 32px;\n",
              "      padding: 0 0 0 0;\n",
              "      width: 32px;\n",
              "    }\n",
              "\n",
              "    .colab-df-convert:hover {\n",
              "      background-color: #E2EBFA;\n",
              "      box-shadow: 0px 1px 2px rgba(60, 64, 67, 0.3), 0px 1px 3px 1px rgba(60, 64, 67, 0.15);\n",
              "      fill: #174EA6;\n",
              "    }\n",
              "\n",
              "    [theme=dark] .colab-df-convert {\n",
              "      background-color: #3B4455;\n",
              "      fill: #D2E3FC;\n",
              "    }\n",
              "\n",
              "    [theme=dark] .colab-df-convert:hover {\n",
              "      background-color: #434B5C;\n",
              "      box-shadow: 0px 1px 3px 1px rgba(0, 0, 0, 0.15);\n",
              "      filter: drop-shadow(0px 1px 2px rgba(0, 0, 0, 0.3));\n",
              "      fill: #FFFFFF;\n",
              "    }\n",
              "  </style>\n",
              "\n",
              "      <script>\n",
              "        const buttonEl =\n",
              "          document.querySelector('#df-b1807b4f-8756-4e17-9e90-4953890d0b49 button.colab-df-convert');\n",
              "        buttonEl.style.display =\n",
              "          google.colab.kernel.accessAllowed ? 'block' : 'none';\n",
              "\n",
              "        async function convertToInteractive(key) {\n",
              "          const element = document.querySelector('#df-b1807b4f-8756-4e17-9e90-4953890d0b49');\n",
              "          const dataTable =\n",
              "            await google.colab.kernel.invokeFunction('convertToInteractive',\n",
              "                                                     [key], {});\n",
              "          if (!dataTable) return;\n",
              "\n",
              "          const docLinkHtml = 'Like what you see? Visit the ' +\n",
              "            '<a target=\"_blank\" href=https://colab.research.google.com/notebooks/data_table.ipynb>data table notebook</a>'\n",
              "            + ' to learn more about interactive tables.';\n",
              "          element.innerHTML = '';\n",
              "          dataTable['output_type'] = 'display_data';\n",
              "          await google.colab.output.renderOutput(dataTable, element);\n",
              "          const docLink = document.createElement('div');\n",
              "          docLink.innerHTML = docLinkHtml;\n",
              "          element.appendChild(docLink);\n",
              "        }\n",
              "      </script>\n",
              "    </div>\n",
              "  </div>\n",
              "  "
            ]
          },
          "metadata": {},
          "execution_count": 5
        }
      ]
    },
    {
      "cell_type": "code",
      "source": [
        "#Parece que la colunma Solids tiene valores atípicos es asi que valido con una gráfica de boxplot.\n",
        "\n",
        "tds = df['Solids']\n",
        "plt.boxplot([tds],\n",
        "                        notch=True,\n",
        "                        patch_artist=True,\n",
        "                        widths=.15,\n",
        "                        medianprops= dict(linestyle='-', linewidth=2, color='Yellow'),\n",
        "                        boxprops = dict(linestyle='--', linewidth=2, color='Black', facecolor = 'blue', alpha = .5)\n",
        "                        );\n",
        "\n",
        "\n",
        "plt.ylabel('TDS (ppm)', fontsize = 14);\n",
        "plt.xticks(fontsize = 16);\n",
        "plt.yticks(fontsize = 16);\n",
        "plt.title('Solids', fontdict={'fontsize': 20});"
      ],
      "metadata": {
        "colab": {
          "base_uri": "https://localhost:8080/",
          "height": 291
        },
        "id": "3F0e10sNP8te",
        "outputId": "f8ce1d73-a4d0-459c-f092-d0b0576fca06"
      },
      "execution_count": null,
      "outputs": [
        {
          "output_type": "display_data",
          "data": {
            "text/plain": [
              "<Figure size 432x288 with 1 Axes>"
            ],
            "image/png": "[encoded data removed]"
          },
          "metadata": {
            "needs_background": "light"
          }
        }
      ]
    },
    {
      "cell_type": "markdown",
      "source": [
        "Segun el gráfico anterior se presenta un número importante de valores atípicos a partir de 45.000"
      ],
      "metadata": {
        "id": "oNGKEmZWRodx"
      }
    },
    {
      "cell_type": "code",
      "source": [
        "# Ahora veamos el comportamiento de los datos de la colunma Hardness tambien con un gráfico Boxplot.\n",
        "tds = df['Hardness']\n",
        "plt.boxplot([tds],\n",
        "                        notch=True,\n",
        "                        patch_artist=True,\n",
        "                        widths=.15,\n",
        "                        medianprops= dict(linestyle='-', linewidth=2, color='Yellow'),\n",
        "                        boxprops = dict(linestyle='--', linewidth=2, color='Black', facecolor = 'blue', alpha = .5)\n",
        "                        );\n",
        "\n",
        "\n",
        "plt.ylabel('mg/L', fontsize = 14);\n",
        "plt.xticks(fontsize = 16);\n",
        "plt.yticks(fontsize = 16);\n",
        "plt.title('Hardness', fontdict={'fontsize': 20});"
      ],
      "metadata": {
        "colab": {
          "base_uri": "https://localhost:8080/",
          "height": 373
        },
        "id": "eJNw7mGzYTx9",
        "outputId": "2357fdd0-e90c-4841-d749-bf777d428342"
      },
      "execution_count": null,
      "outputs": [
        {
          "output_type": "display_data",
          "data": {
            "text/plain": [
              "<Figure size 576x396 with 1 Axes>"
            ],
            "image/png": "[encoded data removed]"
          },
          "metadata": {}
        }
      ]
    },
    {
      "cell_type": "markdown",
      "source": [
        "Hardness presenta valores atipicos por debajo de 120 mg/L y por encima de 280 mg/L, sin embargo en el gráfico de histograma siguiente vemos que los datos se comportan como una distribución normal."
      ],
      "metadata": {
        "id": "7PNSjbvUZMQJ"
      }
    },
    {
      "cell_type": "code",
      "source": [
        "#Gráfico univariante de todas las caracteristicas, cada histograma muestra el comportamiento de los datos \n",
        "df.drop('Potability', axis=1).hist(figsize=(12,8));"
      ],
      "metadata": {
        "colab": {
          "base_uri": "https://localhost:8080/",
          "height": 499
        },
        "id": "7WkYFkgIR1BP",
        "outputId": "1a8d2153-e8d7-4211-f61e-c985fb5be073"
      },
      "execution_count": null,
      "outputs": [
        {
          "output_type": "display_data",
          "data": {
            "text/plain": [
              "<Figure size 864x576 with 9 Axes>"
            ],
            "image/png": "[encoded data removed]"
          },
          "metadata": {
            "needs_background": "light"
          }
        }
      ]
    },
    {
      "cell_type": "markdown",
      "source": [
        "Según la fuente de la información, el rango de PH recomendado para la salud es de 6.5 a 8.5. En el gráfico 1 podemos observar que hay algunos valores por fuera de este rango, lo que puede afectar la potabilidad del agua.\n",
        "\n",
        "La cantidad deseable de Solidos en el agua es de 500 mg/l y máximo de 1000 mg/l, el grafico 3 muestra gran cantidad de datos por fuera de este límite, afectando también la potabilidad del agua.\n",
        "\n",
        "El nivel de cloro máximo debe ser de 4 mg/L, los datos en el grafico muestran un nivel elevado de cloro, lo mismo sucede con el carbono orgánico cuyo valor máximo debe ser de 4 mg/L.\n",
        "\n",
        "La turbidez del agua muestra algunos valores por encima del nivel permitido, 5 NTU."
      ],
      "metadata": {
        "id": "meZNS5pt1Txe"
      }
    },
    {
      "cell_type": "code",
      "source": [
        "# Dos curvas de distribución para Hardness y Sulfates que representan igual unidad de medida mg/L\n",
        "plt.style.use('seaborn')\n",
        "sns.kdeplot(df['Hardness']);\n",
        "sns.kdeplot(df['Sulfate']);\n",
        "plt.xlabel('')\n",
        "plt.legend(labels=['Hardness','Sulfate']);"
      ],
      "metadata": {
        "colab": {
          "base_uri": "https://localhost:8080/",
          "height": 347
        },
        "id": "iVSbBDVuae5L",
        "outputId": "0ea97946-2a56-48e5-a88a-104b634e3b71"
      },
      "execution_count": null,
      "outputs": [
        {
          "output_type": "display_data",
          "data": {
            "text/plain": [
              "<Figure size 576x396 with 1 Axes>"
            ],
            "image/png": "[encoded data removed]"
          },
          "metadata": {}
        }
      ]
    },
    {
      "cell_type": "code",
      "source": [
        "# Ahora veamos el comportamiento de los datos para la columna objetivo, Potability.\n",
        "plt.style.use('seaborn')\n",
        "df['Potability'].hist(bins=30, edgecolor='black');\n",
        "\n",
        "plt.ylabel('Cantidad', fontsize = 14);\n",
        "plt.xlabel('0:No potable / 1:Potable', fontsize = 14);\n",
        "plt.xticks(fontsize = 16);\n",
        "plt.yticks(fontsize = 16);\n",
        "plt.title('Potabilidad del agua', fontdict={'fontsize': 20});"
      ],
      "metadata": {
        "colab": {
          "base_uri": "https://localhost:8080/",
          "height": 391
        },
        "id": "_Wy3CfhmWWJv",
        "outputId": "89b55e35-7509-48de-9c3d-14591ebd17a4"
      },
      "execution_count": null,
      "outputs": [
        {
          "output_type": "display_data",
          "data": {
            "text/plain": [
              "<Figure size 576x396 with 1 Axes>"
            ],
            "image/png": "[encoded data removed]"
          },
          "metadata": {}
        }
      ]
    },
    {
      "cell_type": "code",
      "source": [
        "#Casi el 61% porciento de los datos  pertenece a agua no potable, y el 39% restante a agua que si es potable.\n",
        "df['Potability'].value_counts(normalize = True)"
      ],
      "metadata": {
        "colab": {
          "base_uri": "https://localhost:8080/"
        },
        "id": "KeT0LD7EW_3B",
        "outputId": "0d78b3c6-537c-41bb-d70c-1accc915b283"
      },
      "execution_count": null,
      "outputs": [
        {
          "output_type": "execute_result",
          "data": {
            "text/plain": [
              "0    0.60989\n",
              "1    0.39011\n",
              "Name: Potability, dtype: float64"
            ]
          },
          "metadata": {},
          "execution_count": 29
        }
      ]
    },
    {
      "cell_type": "code",
      "source": [
        "#producir un mapa de calor de correlación e identificar cualquier correlaciones moderadas o fuertes entre el objetivo y las características y/o entre una característica y otra\n",
        "\n",
        "plt.figure(figsize = (15,8))\n",
        "correlations = df.corr();\n",
        "sns.heatmap(correlations, cmap='Oranges' , annot=True);\n",
        "plt.title('Mapa de correlaciones', fontdict={'fontsize': 20});"
      ],
      "metadata": {
        "colab": {
          "base_uri": "https://localhost:8080/",
          "height": 568
        },
        "id": "VSmVMB-SXKYa",
        "outputId": "1b2b9b05-404c-4898-cc3f-b40d9f712431"
      },
      "execution_count": null,
      "outputs": [
        {
          "output_type": "display_data",
          "data": {
            "text/plain": [
              "<Figure size 1080x576 with 2 Axes>"
            ],
            "image/png": "[encoded data removed]"
          },
          "metadata": {}
        }
      ]
    },
    {
      "cell_type": "markdown",
      "source": [
        "El mapa de calor muestra que no existe ninguna correlación entre las caracteristicas ya que cada coeficiente es cercano a cero."
      ],
      "metadata": {
        "id": "cll5DtVnbp4G"
      }
    },
    {
      "cell_type": "markdown",
      "source": [
        "# Proyecto 2 - Parte 4\n",
        "\n",
        "* Garantiza que completes los pasos de preprocesamiento adecuados.\n",
        "* Intenta múltiples modelos y afina los hiperparámetros de cada modelo para optimizar el rendimiento del modelo (incluye todos los modelos e hiperparámetros probados además del modelo final)\n",
        "* Evalúa el rendimiento del modelo con las métricas adecuados para el modelo\n",
        "* Elije tu modelo de “producción” y justifica esta decisión\n",
        "* Vuelve a revisar tu código y garantiza que has proporcionados comentarios claros"
      ],
      "metadata": {
        "id": "3LiiCk754wXu"
      }
    },
    {
      "cell_type": "code",
      "source": [
        "# crear matrix de cracteristicas y vector objetivo\n",
        "y = df['Potability']\n",
        "X = df.drop(columns='Potability')\n",
        "#Aplicar train split\n",
        "X_train, X_test, y_train, y_test = train_test_split(X, y, random_state=42)"
      ],
      "metadata": {
        "id": "41n8a_ieb9_z"
      },
      "execution_count": 30,
      "outputs": []
    },
    {
      "cell_type": "code",
      "source": [
        "#Creen un pipeline de preprocesamiento para preparar el conjunto de datos para el aprendizaje automático.\n",
        "num_selector = make_column_selector(dtype_include='number')\n",
        "mean_imputer = SimpleImputer(strategy='median')\n",
        "scaler = StandardScaler()\n",
        "# crear pipeline numerico con los datos escalados\n",
        "num_pipe = make_pipeline(mean_imputer, scaler)"
      ],
      "metadata": {
        "id": "hvDKTFWgB1Cg"
      },
      "execution_count": 31,
      "outputs": []
    },
    {
      "cell_type": "code",
      "source": [
        "# Tuples para Column Transformer\n",
        "number_tuple = (num_pipe, num_selector)\n",
        "# ColumnTransformer\n",
        "preprocessor = make_column_transformer(number_tuple)\n",
        "# fit on train\n",
        "preprocessor.fit(X_train)\n",
        "# transform train and test\n",
        "X_train_processed = preprocessor.transform(X_train)\n",
        "X_test_processed = preprocessor.transform(X_test)"
      ],
      "metadata": {
        "id": "_kvmWJ2aA0it"
      },
      "execution_count": 40,
      "outputs": []
    },
    {
      "cell_type": "markdown",
      "source": [
        "Modelo de Regresión logística:"
      ],
      "metadata": {
        "id": "c9L7-fkQLYrl"
      }
    },
    {
      "cell_type": "code",
      "source": [
        "# Crear modelo de Regresión logística \n",
        "log = LogisticRegression()\n",
        "logreg = make_pipeline(num_pipe, log)"
      ],
      "metadata": {
        "id": "s-gU8DbY6Po4"
      },
      "execution_count": 9,
      "outputs": []
    },
    {
      "cell_type": "code",
      "source": [
        "#Entrenar el modelo\n",
        "logreg.fit(X_train_processed, y_train)\n",
        "#Evaluar el modelo\n",
        "scores = logreg.score(X_test_processed, y_test)\n",
        "scores"
      ],
      "metadata": {
        "colab": {
          "base_uri": "https://localhost:8080/"
        },
        "id": "xq26cFKc7M4o",
        "outputId": "8dec4b93-7309-43b8-9007-44b63067e07e"
      },
      "execution_count": 46,
      "outputs": [
        {
          "output_type": "execute_result",
          "data": {
            "text/plain": [
              "0.6227106227106227"
            ]
          },
          "metadata": {},
          "execution_count": 46
        }
      ]
    },
    {
      "cell_type": "code",
      "source": [
        "#Afinar el hiperparametro L1\n",
        "\n",
        "c_list = [0.001, 0.001, 0.01, 0.1, 1, 10, 100, 1000]\n",
        "train_scores = []\n",
        "test_scores = []\n",
        "# Ciclo For para encontrar el mejor valor de c\n",
        "for c in c_list:\n",
        "  log_r = LogisticRegression(C=c, max_iter=1000, solver='liblinear', penalty='l1')\n",
        "  # pipeline con el modelo y num scaler/imputer.\n",
        "  log_r_pipe = make_pipeline(num_pipe, log_r)\n",
        "  log_r_pipe.fit(X_train_processed, y_train)\n",
        "  # Evaluar el modelo \n",
        "  train_scores.append(log_r_pipe.score(X_train_processed, y_train))\n",
        "  test_scores.append(log_r_pipe.score(X_test_processed, y_test))"
      ],
      "metadata": {
        "id": "_WkQ3V6H7r01"
      },
      "execution_count": 42,
      "outputs": []
    },
    {
      "cell_type": "code",
      "source": [
        "#plot the change in accuracy vs value of C\n",
        "fig, ax = plt.subplots(1,1)\n",
        "ax.plot(c_list, train_scores, label='Training Accuracy')\n",
        "ax.plot(c_list, test_scores, label='Testing Accuracy')\n",
        "ax.set_xticks(c_list)\n",
        "ax.set_title('Rate of Change for Accuracy vs c  L1 Regularization')\n",
        "ax.legend()\n",
        " \n",
        "#setting x axis to log scale \n",
        "ax.set_xscale('log')\n",
        "# print a dictionary of values of C and accuracy scores\n",
        "{c:round(score,3) for c, score in zip(c_list, test_scores)}"
      ],
      "metadata": {
        "colab": {
          "base_uri": "https://localhost:8080/",
          "height": 406
        },
        "id": "TOYuxSzW9AwL",
        "outputId": "4c08575b-4abc-4a6a-b949-c34dd2cd2177"
      },
      "execution_count": 43,
      "outputs": [
        {
          "output_type": "execute_result",
          "data": {
            "text/plain": [
              "{0.001: 0.623,\n",
              " 0.01: 0.623,\n",
              " 0.1: 0.623,\n",
              " 1: 0.623,\n",
              " 10: 0.623,\n",
              " 100: 0.623,\n",
              " 1000: 0.623}"
            ]
          },
          "metadata": {},
          "execution_count": 43
        },
        {
          "output_type": "display_data",
          "data": {
            "text/plain": [
              "<Figure size 432x288 with 1 Axes>"
            ],
            "image/png": "[encoded data removed]"
          },
          "metadata": {
            "needs_background": "light"
          }
        }
      ]
    },
    {
      "cell_type": "code",
      "source": [
        "#Afinación de L2\n",
        "\n",
        "# create a list of c values and empty lists for scores\n",
        "c_values = [0.0001, 0.001, 0.01, 0.1, 1, 10, 100, 1000]\n",
        "train_scores = []\n",
        "test_scores = []\n",
        "#iterative over the c values\n",
        "for c in c_values:\n",
        "  # instantiate a model with each value of c and fit it on the data\n",
        "  log_reg = LogisticRegression(C=c, max_iter=1000, solver='liblinear', penalty='l2')\n",
        "  log_reg_pipe = make_pipeline(scaler, log_reg)\n",
        "  log_reg_pipe.fit(X_train_processed, y_train)\n",
        " \n",
        "  # add the training and testing scores to our scores lists\n",
        "  train_scores.append(log_reg_pipe.score(X_train_processed, y_train))\n",
        "  test_scores.append(log_reg_pipe.score(X_test_processed, y_test))\n",
        "  \n",
        "#plot the change in accuracy as we change the value of C\n",
        "fig, ax = plt.subplots(1,1)\n",
        "ax.plot(c_values, train_scores, label='Training Accuracy')\n",
        "ax.plot(c_values, test_scores, label='Testing Accuracy')\n",
        "ax.set_xticks(c_values)\n",
        "ax.set_title('Change in accuracy over C values for l2 regularization')\n",
        "ax.legend()\n",
        "#set the x axis to a logarithmic scale to show the values of C in even intervals\n",
        "ax.set_xscale('log')\n",
        "# print a dictionary of values of C and accuracy scores\n",
        "{c:score for c, score in zip(c_values, test_scores)}"
      ],
      "metadata": {
        "colab": {
          "base_uri": "https://localhost:8080/",
          "height": 424
        },
        "id": "fdbO1Fw--Y6W",
        "outputId": "6bca47ea-bcb8-468c-832e-2d723a031abf"
      },
      "execution_count": 44,
      "outputs": [
        {
          "output_type": "execute_result",
          "data": {
            "text/plain": [
              "{0.0001: 0.6227106227106227,\n",
              " 0.001: 0.6227106227106227,\n",
              " 0.01: 0.6227106227106227,\n",
              " 0.1: 0.6227106227106227,\n",
              " 1: 0.6227106227106227,\n",
              " 10: 0.6227106227106227,\n",
              " 100: 0.6227106227106227,\n",
              " 1000: 0.6227106227106227}"
            ]
          },
          "metadata": {},
          "execution_count": 44
        },
        {
          "output_type": "display_data",
          "data": {
            "text/plain": [
              "<Figure size 432x288 with 1 Axes>"
            ],
            "image/png": "[encoded data removed]"
          },
          "metadata": {
            "needs_background": "light"
          }
        }
      ]
    },
    {
      "cell_type": "code",
      "source": [
        "#Encontar el mejor hiperparametro usando gridsearch\n",
        "params = {'penalty':['l1','l2'],\n",
        "          'C':[0.0001, .001, .01, 1, 10],\n",
        "          'class_weight': [None,'balanced']}"
      ],
      "metadata": {
        "id": "IsWUAoEBEFIq"
      },
      "execution_count": 47,
      "outputs": []
    },
    {
      "cell_type": "code",
      "source": [
        "#Regresion logistica\n",
        "log_reg = LogisticRegression(solver='liblinear')\n",
        "#grid search\n",
        "gs = GridSearchCV(log_reg, params, cv=5)\n",
        "gs.fit(X_train_processed, y_train)"
      ],
      "metadata": {
        "colab": {
          "base_uri": "https://localhost:8080/"
        },
        "id": "v0C4V5qZFebr",
        "outputId": "ae92db98-3743-43be-f8d7-f26f972de0c2"
      },
      "execution_count": 48,
      "outputs": [
        {
          "output_type": "execute_result",
          "data": {
            "text/plain": [
              "GridSearchCV(cv=5, estimator=LogisticRegression(solver='liblinear'),\n",
              "             param_grid={'C': [0.0001, 0.001, 0.01, 1, 10],\n",
              "                         'class_weight': [None, 'balanced'],\n",
              "                         'penalty': ['l1', 'l2']})"
            ]
          },
          "metadata": {},
          "execution_count": 48
        }
      ]
    },
    {
      "cell_type": "code",
      "source": [
        "gs.best_params_"
      ],
      "metadata": {
        "colab": {
          "base_uri": "https://localhost:8080/"
        },
        "id": "YQ1Z-Nl6FpuD",
        "outputId": "ec2e4862-0d78-41bb-fee1-12666b19ba6c"
      },
      "execution_count": 49,
      "outputs": [
        {
          "output_type": "execute_result",
          "data": {
            "text/plain": [
              "{'C': 0.0001, 'class_weight': None, 'penalty': 'l1'}"
            ]
          },
          "metadata": {},
          "execution_count": 49
        }
      ]
    },
    {
      "cell_type": "code",
      "source": [
        "print('accuracy de entrenamiento: ', gs.score(X_train_processed, y_train))\n",
        "print('accuracy de prueba: ', gs.score(X_test_processed, y_test))"
      ],
      "metadata": {
        "colab": {
          "base_uri": "https://localhost:8080/"
        },
        "id": "eAqMLScfFs4V",
        "outputId": "a97f4987-324a-470e-91e5-0abcb598aa78"
      },
      "execution_count": 51,
      "outputs": [
        {
          "output_type": "stream",
          "name": "stdout",
          "text": [
            "accuracy de entrenamiento:  0.6056166056166056\n",
            "accuracy de prueba:  0.6227106227106227\n"
          ]
        }
      ]
    },
    {
      "cell_type": "code",
      "source": [
        "#Guardar las predicciones\n",
        "preds = gs.predict(X_test_processed)"
      ],
      "metadata": {
        "id": "IzCJTs17F-T5"
      },
      "execution_count": 53,
      "outputs": []
    },
    {
      "cell_type": "code",
      "source": [
        "#Crear reporte de clasificación\n",
        "train_pred = logreg.predict(X_train_processed);\n",
        "test_pred = logreg.predict(X_test_processed);\n",
        "train_r = classification_report(y_train, train_pred, zero_division=0);\n",
        "test_r = classification_report(y_test, test_pred, zero_division=0);\n",
        "print(train_r, \"\\n\\n\\n\")\n",
        "print(test_r)"
      ],
      "metadata": {
        "colab": {
          "base_uri": "https://localhost:8080/"
        },
        "id": "wdUkHbq7GMZN",
        "outputId": "01aca72b-7ce0-481f-b522-b2452cace6de"
      },
      "execution_count": 55,
      "outputs": [
        {
          "output_type": "stream",
          "name": "stdout",
          "text": [
            "              precision    recall  f1-score   support\n",
            "\n",
            "           0       0.61      1.00      0.75      1488\n",
            "           1       0.00      0.00      0.00       969\n",
            "\n",
            "    accuracy                           0.61      2457\n",
            "   macro avg       0.30      0.50      0.38      2457\n",
            "weighted avg       0.37      0.61      0.46      2457\n",
            " \n",
            "\n",
            "\n",
            "\n",
            "              precision    recall  f1-score   support\n",
            "\n",
            "           0       0.62      1.00      0.77       510\n",
            "           1       0.00      0.00      0.00       309\n",
            "\n",
            "    accuracy                           0.62       819\n",
            "   macro avg       0.31      0.50      0.38       819\n",
            "weighted avg       0.39      0.62      0.48       819\n",
            "\n"
          ]
        }
      ]
    },
    {
      "cell_type": "code",
      "source": [
        "# Matriz de confusión\n",
        "labels = ['Non-Potable', 'Potable']\n",
        "\n",
        "plot_confusion_matrix(estimator=log_reg_pipe, display_labels=labels, X=X_test_processed, \n",
        "                      y_true=y_test, normalize='true');\n",
        "plt.grid(False);"
      ],
      "metadata": {
        "colab": {
          "base_uri": "https://localhost:8080/",
          "height": 338
        },
        "id": "dsbUrmIZHWyb",
        "outputId": "62183cd5-2dc4-49ea-9007-d303d69a5385"
      },
      "execution_count": 120,
      "outputs": [
        {
          "output_type": "stream",
          "name": "stderr",
          "text": [
            "/usr/local/lib/python3.7/dist-packages/sklearn/utils/deprecation.py:87: FutureWarning: Function plot_confusion_matrix is deprecated; Function `plot_confusion_matrix` is deprecated in 1.0 and will be removed in 1.2. Use one of the class methods: ConfusionMatrixDisplay.from_predictions or ConfusionMatrixDisplay.from_estimator.\n",
            "  warnings.warn(msg, category=FutureWarning)\n"
          ]
        },
        {
          "output_type": "display_data",
          "data": {
            "text/plain": [
              "<Figure size 432x288 with 2 Axes>"
            ],
            "image/png": "[encoded data removed]"
          },
          "metadata": {
            "needs_background": "light"
          }
        }
      ]
    },
    {
      "cell_type": "markdown",
      "source": [
        "Modelo de KNN usando PCA:"
      ],
      "metadata": {
        "id": "Ga92JWTSLh0c"
      }
    },
    {
      "cell_type": "code",
      "source": [
        "#crear modelo PCA\n",
        "pca = PCA(n_components=.95)"
      ],
      "metadata": {
        "id": "Su_m2iaxRtk0"
      },
      "execution_count": 100,
      "outputs": []
    },
    {
      "cell_type": "code",
      "source": [
        "#inicializar el modelo KNN\n",
        "\n",
        "knn = KNeighborsClassifier()"
      ],
      "metadata": {
        "id": "EITCRFjXRg8l"
      },
      "execution_count": 101,
      "outputs": []
    },
    {
      "cell_type": "code",
      "source": [
        "%%time\n",
        "#crear modelo KNN\n",
        "knn_pca_pipe = make_pipeline(scaler, pca, knn)\n",
        "knn_pca_pipe.fit(X_train_processed, y_train)"
      ],
      "metadata": {
        "colab": {
          "base_uri": "https://localhost:8080/"
        },
        "id": "L_5mopk_RjPs",
        "outputId": "1b9a049a-2ddc-41a2-a03d-066e60b60475"
      },
      "execution_count": 102,
      "outputs": [
        {
          "output_type": "stream",
          "name": "stdout",
          "text": [
            "CPU times: user 7.45 ms, sys: 4.1 ms, total: 11.5 ms\n",
            "Wall time: 8.12 ms\n"
          ]
        },
        {
          "output_type": "execute_result",
          "data": {
            "text/plain": [
              "Pipeline(steps=[('standardscaler', StandardScaler()),\n",
              "                ('pca', PCA(n_components=0.95)),\n",
              "                ('kneighborsclassifier', KNeighborsClassifier())])"
            ]
          },
          "metadata": {},
          "execution_count": 102
        }
      ]
    },
    {
      "cell_type": "code",
      "source": [
        "#Evaluar modelo con PCA\n",
        "knn_pca_acc = round(knn_pca_pipe.score(X_test_processed, y_test), 3)\n",
        "knn_pca_acc"
      ],
      "metadata": {
        "colab": {
          "base_uri": "https://localhost:8080/"
        },
        "id": "ouAC1rzgR0f-",
        "outputId": "15593cfa-8f0c-4df9-b9cf-6755d7e10ceb"
      },
      "execution_count": 103,
      "outputs": [
        {
          "output_type": "execute_result",
          "data": {
            "text/plain": [
              "0.623"
            ]
          },
          "metadata": {},
          "execution_count": 103
        }
      ]
    },
    {
      "cell_type": "code",
      "source": [
        "# Crear reporte de clasificación\n",
        "train_knn_pca_pred = knn_pca_pipe.predict(X_train_processed)\n",
        "test_knn_pca_pred = knn_pca_pipe.predict(X_test_processed)\n",
        "# precision, recall y f1-score para los datos de entrenamiento y de prueba\n",
        "train_report = classification_report(y_train, train_knn_pca_pred)\n",
        "test_report = classification_report(y_test, test_knn_pca_pred)\n",
        "print(f'Classification Report for Training Set\\n {train_report} \\n\\n')\n",
        "print('Classification Report for Testing Set\\n', test_report)"
      ],
      "metadata": {
        "colab": {
          "base_uri": "https://localhost:8080/"
        },
        "id": "Gkt2UPPANEqS",
        "outputId": "a34bcc0a-4a9c-4829-b0f3-933f50101907"
      },
      "execution_count": 106,
      "outputs": [
        {
          "output_type": "stream",
          "name": "stdout",
          "text": [
            "Classification Report for Training Set\n",
            "               precision    recall  f1-score   support\n",
            "\n",
            "           0       0.77      0.87      0.82      1488\n",
            "           1       0.75      0.59      0.66       969\n",
            "\n",
            "    accuracy                           0.76      2457\n",
            "   macro avg       0.76      0.73      0.74      2457\n",
            "weighted avg       0.76      0.76      0.76      2457\n",
            " \n",
            "\n",
            "\n",
            "Classification Report for Testing Set\n",
            "               precision    recall  f1-score   support\n",
            "\n",
            "           0       0.68      0.76      0.71       510\n",
            "           1       0.50      0.40      0.45       309\n",
            "\n",
            "    accuracy                           0.62       819\n",
            "   macro avg       0.59      0.58      0.58       819\n",
            "weighted avg       0.61      0.62      0.61       819\n",
            "\n"
          ]
        }
      ]
    },
    {
      "cell_type": "code",
      "source": [
        "# Matriz de confusión\n",
        "labels = ['Non-Potable', 'Potable']\n",
        "\n",
        "plot_confusion_matrix(estimator=knn_pca_pipe, display_labels=labels, X=X_test_processed, \n",
        "                      y_true=y_test, normalize='true');\n",
        "plt.grid(False);"
      ],
      "metadata": {
        "colab": {
          "base_uri": "https://localhost:8080/",
          "height": 334
        },
        "id": "svYO-OJdTZJT",
        "outputId": "cc6e9750-3016-4770-9c4b-81e22cd4638c"
      },
      "execution_count": 110,
      "outputs": [
        {
          "output_type": "stream",
          "name": "stderr",
          "text": [
            "/usr/local/lib/python3.7/dist-packages/sklearn/utils/deprecation.py:87: FutureWarning: Function plot_confusion_matrix is deprecated; Function `plot_confusion_matrix` is deprecated in 1.0 and will be removed in 1.2. Use one of the class methods: ConfusionMatrixDisplay.from_predictions or ConfusionMatrixDisplay.from_estimator.\n",
            "  warnings.warn(msg, category=FutureWarning)\n"
          ]
        },
        {
          "output_type": "display_data",
          "data": {
            "text/plain": [
              "<Figure size 432x288 with 2 Axes>"
            ],
            "image/png": "[encoded data removed]"
          },
          "metadata": {
            "needs_background": "light"
          }
        }
      ]
    },
    {
      "cell_type": "code",
      "source": [
        "#Dado que aplicando PCA se obtuvo buenos resultados, realizaré una copia para continuar el trabajo.\n",
        "\n",
        "df2 = df.copy()\n",
        "y2 = df2['Potability']\n",
        "X2 = df2.drop(columns='Potability')\n",
        "# train - split con PCA\n",
        "X2_train, X2_test, y2_train, y2_test = train_test_split(X2, y2, random_state=42)"
      ],
      "metadata": {
        "id": "mzbHTGuhT_IL"
      },
      "execution_count": 111,
      "outputs": []
    },
    {
      "cell_type": "markdown",
      "source": [
        "Modelo arbol de desición:"
      ],
      "metadata": {
        "id": "yvt02U6MVKuV"
      }
    },
    {
      "cell_type": "code",
      "source": [
        "# Inicializar modelo de arbol con 2 de profundidad\n",
        "dec_tree = DecisionTreeClassifier(max_depth=2)\n",
        "# standarizar los datos\n",
        "dt_pipe = make_pipeline(num_pipe, dec_tree)\n",
        "# Entrenar los datos\n",
        "dt_pipe.fit(X_train_processed, y_train)\n",
        "# Evaluar el modelo\n",
        "dt_score = dt_pipe.score(X_test, y_test)\n",
        "dt_score"
      ],
      "metadata": {
        "colab": {
          "base_uri": "https://localhost:8080/"
        },
        "id": "vCy7kBiUU7vA",
        "outputId": "a15635cb-0d61-495b-ba5c-4d13237bf416"
      },
      "execution_count": 112,
      "outputs": [
        {
          "output_type": "stream",
          "name": "stderr",
          "text": [
            "/usr/local/lib/python3.7/dist-packages/sklearn/base.py:444: UserWarning: X has feature names, but SimpleImputer was fitted without feature names\n",
            "  f\"X has feature names, but {self.__class__.__name__} was fitted without\"\n"
          ]
        },
        {
          "output_type": "execute_result",
          "data": {
            "text/plain": [
              "0.6227106227106227"
            ]
          },
          "metadata": {},
          "execution_count": 112
        }
      ]
    },
    {
      "cell_type": "code",
      "source": [
        "# Diccionario de parametros para usar Grid Search\n",
        "param_grid = {'decisiontreeclassifier__max_depth':[3,5, 10],\n",
        "              'decisiontreeclassifier__min_samples_leaf':[1, 2, 3],\n",
        "              'decisiontreeclassifier__min_samples_split':[50, 125, 250]}"
      ],
      "metadata": {
        "id": "UZWEwElQV9qU"
      },
      "execution_count": 113,
      "outputs": []
    },
    {
      "cell_type": "code",
      "source": [
        "# Afinar parametros\n",
        "dt_grid_search = GridSearchCV(dt_pipe, param_grid)\n",
        "# Entrenar el modelo\n",
        "dt_grid_search.fit(X_train_processed, y_train)\n",
        "# ver los mejores parametros\n",
        "dt_grid_search.best_params_"
      ],
      "metadata": {
        "colab": {
          "base_uri": "https://localhost:8080/"
        },
        "id": "QUajtj60WN6l",
        "outputId": "43b31077-6284-4671-c83e-fb12e4217f5f"
      },
      "execution_count": 114,
      "outputs": [
        {
          "output_type": "execute_result",
          "data": {
            "text/plain": [
              "{'decisiontreeclassifier__max_depth': 5,\n",
              " 'decisiontreeclassifier__min_samples_leaf': 1,\n",
              " 'decisiontreeclassifier__min_samples_split': 50}"
            ]
          },
          "metadata": {},
          "execution_count": 114
        }
      ]
    },
    {
      "cell_type": "code",
      "source": [
        "# Crear el arbol de desición con los mejores parametros\n",
        "best_tree = DecisionTreeClassifier(max_depth=5, min_samples_leaf=2, min_samples_split=50)\n",
        "# Crear pipeline\n",
        "dt_best_pipe = make_pipeline(num_pipe, best_tree)\n",
        "# Entrenar el modelo\n",
        "dt_best_pipe.fit(X_train_processed, y_train)\n",
        "# Evaluar el modelo\n",
        "dt_best_score = dt_pipe.score(X_test_processed, y_test)\n",
        "dt_best_score"
      ],
      "metadata": {
        "colab": {
          "base_uri": "https://localhost:8080/"
        },
        "id": "2cIZJDNsWpwk",
        "outputId": "0058ccc2-b35a-4700-f0a9-561540b83d34"
      },
      "execution_count": 116,
      "outputs": [
        {
          "output_type": "execute_result",
          "data": {
            "text/plain": [
              "0.6324786324786325"
            ]
          },
          "metadata": {},
          "execution_count": 116
        }
      ]
    },
    {
      "cell_type": "markdown",
      "source": [
        "Vemos que el modelo mejoró en un 1% al afinar los parametros, lo que no paso con el modelo de regresión logistica ni KNN."
      ],
      "metadata": {
        "id": "zN2_Xy21XGSg"
      }
    },
    {
      "cell_type": "code",
      "source": [
        "# Crear reporte de clasificación\n",
        "train_tree_pred = dt_best_pipe.predict(X_train_processed)\n",
        "test_tree_pred = dt_best_pipe.predict(X_test_processed)\n",
        "# precision, recall y f1-score para los datos de entrenamiento y de prueba\n",
        "train_report = classification_report(y_train, train_tree_pred)\n",
        "test_report = classification_report(y_test, test_tree_pred)\n",
        "print(f'Classification Report for Training Set\\n {train_report} \\n\\n')\n",
        "print('Classification Report for Testing Set\\n', test_report)"
      ],
      "metadata": {
        "colab": {
          "base_uri": "https://localhost:8080/"
        },
        "id": "xL1gTHvhXeFb",
        "outputId": "1794c3ec-c24f-4832-db96-cb53f6d258bd"
      },
      "execution_count": 117,
      "outputs": [
        {
          "output_type": "stream",
          "name": "stdout",
          "text": [
            "Classification Report for Training Set\n",
            "               precision    recall  f1-score   support\n",
            "\n",
            "           0       0.66      0.94      0.78      1488\n",
            "           1       0.74      0.24      0.37       969\n",
            "\n",
            "    accuracy                           0.67      2457\n",
            "   macro avg       0.70      0.59      0.57      2457\n",
            "weighted avg       0.69      0.67      0.61      2457\n",
            " \n",
            "\n",
            "\n",
            "Classification Report for Testing Set\n",
            "               precision    recall  f1-score   support\n",
            "\n",
            "           0       0.65      0.91      0.76       510\n",
            "           1       0.59      0.21      0.31       309\n",
            "\n",
            "    accuracy                           0.65       819\n",
            "   macro avg       0.62      0.56      0.53       819\n",
            "weighted avg       0.63      0.65      0.59       819\n",
            "\n"
          ]
        }
      ]
    },
    {
      "cell_type": "code",
      "source": [
        "# Matriz de confusión\n",
        "labels = ['Non-Potable', 'Potable']\n",
        "\n",
        "plot_confusion_matrix(estimator=dt_best_pipe, display_labels=labels, X=X_test_processed, \n",
        "                      y_true=y_test, normalize='true');\n",
        "plt.grid(False);"
      ],
      "metadata": {
        "colab": {
          "base_uri": "https://localhost:8080/",
          "height": 335
        },
        "id": "hEUNka_eYF5X",
        "outputId": "35430fc0-aa81-41a0-d902-d3a74806302c"
      },
      "execution_count": 118,
      "outputs": [
        {
          "output_type": "stream",
          "name": "stderr",
          "text": [
            "/usr/local/lib/python3.7/dist-packages/sklearn/utils/deprecation.py:87: FutureWarning: Function plot_confusion_matrix is deprecated; Function `plot_confusion_matrix` is deprecated in 1.0 and will be removed in 1.2. Use one of the class methods: ConfusionMatrixDisplay.from_predictions or ConfusionMatrixDisplay.from_estimator.\n",
            "  warnings.warn(msg, category=FutureWarning)\n"
          ]
        },
        {
          "output_type": "display_data",
          "data": {
            "text/plain": [
              "<Figure size 432x288 with 2 Axes>"
            ],
            "image/png": "[encoded data removed]"
          },
          "metadata": {
            "needs_background": "light"
          }
        }
      ]
    },
    {
      "cell_type": "markdown",
      "source": [
        "El mejor modelo en este ejercio es el de arboles de desición, ya que presenta menor cantidad de falsos positivos y predice mejor a los verdaderos negativos en comparación con el modelo de KNN y de arbol de desición que parece presentar overfiting.  Ademas es el arroja mejor resultado de accuracy 63,24 %.\n"
      ],
      "metadata": {
        "id": "i0ZxfrkUY-30"
      }
    }
  ]
}